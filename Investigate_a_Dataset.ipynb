{
  "cells": [
    {
      "cell_type": "markdown",
      "metadata": {
        "id": "view-in-github",
        "colab_type": "text"
      },
      "source": [
        "<a href=\"https://colab.research.google.com/github/PeaceUdoka/No_show_project/blob/main/Investigate_a_Dataset.ipynb\" target=\"_parent\"><img src=\"https://colab.research.google.com/assets/colab-badge.svg\" alt=\"Open In Colab\"/></a>"
      ]
    },
    {
      "cell_type": "markdown",
      "metadata": {
        "id": "q2Q9Gr8dvlCz"
      },
      "source": [
        "\n",
        "# Project: Investigate a Dataset - [No-show appointments]\n",
        "\n",
        "## Table of Contents\n",
        "<ul>\n",
        "<li><a href=\"#intro\">Introduction</a></li>\n",
        "<li><a href=\"#wrangling\">Data Wrangling</a></li>\n",
        "<li><a href=\"#eda\">Exploratory Data Analysis</a></li>\n",
        "<li><a href=\"#conclusions\">Conclusions</a></li>\n",
        "</ul>"
      ]
    },
    {
      "cell_type": "markdown",
      "metadata": {
        "id": "i8uk13DyvlC4"
      },
      "source": [
        "<a id='intro'></a>\n",
        "## Introduction\n",
        "\n",
        "### Dataset Description \n",
        "\n",
        "This dataset shows information from 100thousand medical appointments in Brazil and is focused on the question of whether or not patients show up for their appointment. It also shows other characteristics about the patients such as: \n",
        "\n",
        "<ul>\n",
        "    <li><b>PatientId</b></li>\n",
        "    <li><b>AppointmentID</b></li>\n",
        "    <li><b> Gender</b></li>\n",
        "    <li><b>Age</b></li>\n",
        "    <li><b>ScheduledDay</b> tells us on what day the patient set up their appointment.</li>\n",
        "    <li><b>Neighborhood</b> indicates the location of the hospital.</li>\n",
        "    <li><b>Scholarship</b> indicates whether or not the patient is enrolled in Brasilian welfare program Bolsa Família.</li>\n",
        "    <li><b>Hipertension,Diabetes,Alcoholism,Handcap</b> tells us whether or not the patient is suffering from hypertension, diabetes, alcoholism or is handicapped. 0 means \"No\" and 1 means \"Yes\".</li>\n",
        "    <li><b>SMS_received</b> number of messages sent to he patient.</li>\n",
        "    <li><b>No-show</b> says ‘No’ if the patient showed up to their appointment, and ‘Yes’ if they did not show up.</li>\n",
        "    </ul>\n",
        "\n",
        "### Question for Analysis\n",
        "\n",
        "Through the course of this report, i'll be answering the following questions:\n",
        "1. Which gender is more likely to show up for appointments?\n",
        "2. What are the top five locations where patients are more likely to show up for their appointments?\n",
        "3. Is sending messages likely to affect if a patient shows up or not?\n",
        "4. which category of patients who are on scholarship are more likely to miss their appointments?\n",
        " "
      ]
    },
    {
      "cell_type": "code",
      "execution_count": null,
      "metadata": {
        "id": "rdk0E8lXvlC5"
      },
      "outputs": [],
      "source": [
        "# import useful libraries for data analysis\n",
        "import pandas as pd\n",
        "import numpy as np\n",
        "import matplotlib.pyplot as plt\n",
        "import seaborn as sns\n",
        "% matplotlib inline\n",
        "\n",
        "# set general style of plots in this report\n",
        "sns.set(style = \"whitegrid\")"
      ]
    },
    {
      "cell_type": "markdown",
      "metadata": {
        "id": "W_vfLVDbvlC8"
      },
      "source": [
        "<a id='wrangling'></a>\n",
        "## Data Wrangling\n",
        "\n",
        "To analyse this dataset, it must be cleaned first to improve accuracy of analysis.\n",
        "Let's see what the data looks like.\n"
      ]
    },
    {
      "cell_type": "code",
      "execution_count": null,
      "metadata": {
        "id": "641342lhvlC8",
        "outputId": "a96227f5-1eb9-47e3-a735-bb3ab1d2bbe2"
      },
      "outputs": [
        {
          "data": {
            "text/html": [
              "<div>\n",
              "<style scoped>\n",
              "    .dataframe tbody tr th:only-of-type {\n",
              "        vertical-align: middle;\n",
              "    }\n",
              "\n",
              "    .dataframe tbody tr th {\n",
              "        vertical-align: top;\n",
              "    }\n",
              "\n",
              "    .dataframe thead th {\n",
              "        text-align: right;\n",
              "    }\n",
              "</style>\n",
              "<table border=\"1\" class=\"dataframe\">\n",
              "  <thead>\n",
              "    <tr style=\"text-align: right;\">\n",
              "      <th></th>\n",
              "      <th>PatientId</th>\n",
              "      <th>AppointmentID</th>\n",
              "      <th>Gender</th>\n",
              "      <th>ScheduledDay</th>\n",
              "      <th>AppointmentDay</th>\n",
              "      <th>Age</th>\n",
              "      <th>Neighbourhood</th>\n",
              "      <th>Scholarship</th>\n",
              "      <th>Hipertension</th>\n",
              "      <th>Diabetes</th>\n",
              "      <th>Alcoholism</th>\n",
              "      <th>Handcap</th>\n",
              "      <th>SMS_received</th>\n",
              "      <th>No-show</th>\n",
              "    </tr>\n",
              "  </thead>\n",
              "  <tbody>\n",
              "    <tr>\n",
              "      <th>0</th>\n",
              "      <td>2.987250e+13</td>\n",
              "      <td>5642903</td>\n",
              "      <td>F</td>\n",
              "      <td>2016-04-29T18:38:08Z</td>\n",
              "      <td>2016-04-29T00:00:00Z</td>\n",
              "      <td>62</td>\n",
              "      <td>JARDIM DA PENHA</td>\n",
              "      <td>0</td>\n",
              "      <td>1</td>\n",
              "      <td>0</td>\n",
              "      <td>0</td>\n",
              "      <td>0</td>\n",
              "      <td>0</td>\n",
              "      <td>No</td>\n",
              "    </tr>\n",
              "    <tr>\n",
              "      <th>1</th>\n",
              "      <td>5.589978e+14</td>\n",
              "      <td>5642503</td>\n",
              "      <td>M</td>\n",
              "      <td>2016-04-29T16:08:27Z</td>\n",
              "      <td>2016-04-29T00:00:00Z</td>\n",
              "      <td>56</td>\n",
              "      <td>JARDIM DA PENHA</td>\n",
              "      <td>0</td>\n",
              "      <td>0</td>\n",
              "      <td>0</td>\n",
              "      <td>0</td>\n",
              "      <td>0</td>\n",
              "      <td>0</td>\n",
              "      <td>No</td>\n",
              "    </tr>\n",
              "    <tr>\n",
              "      <th>2</th>\n",
              "      <td>4.262962e+12</td>\n",
              "      <td>5642549</td>\n",
              "      <td>F</td>\n",
              "      <td>2016-04-29T16:19:04Z</td>\n",
              "      <td>2016-04-29T00:00:00Z</td>\n",
              "      <td>62</td>\n",
              "      <td>MATA DA PRAIA</td>\n",
              "      <td>0</td>\n",
              "      <td>0</td>\n",
              "      <td>0</td>\n",
              "      <td>0</td>\n",
              "      <td>0</td>\n",
              "      <td>0</td>\n",
              "      <td>No</td>\n",
              "    </tr>\n",
              "    <tr>\n",
              "      <th>3</th>\n",
              "      <td>8.679512e+11</td>\n",
              "      <td>5642828</td>\n",
              "      <td>F</td>\n",
              "      <td>2016-04-29T17:29:31Z</td>\n",
              "      <td>2016-04-29T00:00:00Z</td>\n",
              "      <td>8</td>\n",
              "      <td>PONTAL DE CAMBURI</td>\n",
              "      <td>0</td>\n",
              "      <td>0</td>\n",
              "      <td>0</td>\n",
              "      <td>0</td>\n",
              "      <td>0</td>\n",
              "      <td>0</td>\n",
              "      <td>No</td>\n",
              "    </tr>\n",
              "    <tr>\n",
              "      <th>4</th>\n",
              "      <td>8.841186e+12</td>\n",
              "      <td>5642494</td>\n",
              "      <td>F</td>\n",
              "      <td>2016-04-29T16:07:23Z</td>\n",
              "      <td>2016-04-29T00:00:00Z</td>\n",
              "      <td>56</td>\n",
              "      <td>JARDIM DA PENHA</td>\n",
              "      <td>0</td>\n",
              "      <td>1</td>\n",
              "      <td>1</td>\n",
              "      <td>0</td>\n",
              "      <td>0</td>\n",
              "      <td>0</td>\n",
              "      <td>No</td>\n",
              "    </tr>\n",
              "  </tbody>\n",
              "</table>\n",
              "</div>"
            ],
            "text/plain": [
              "      PatientId  AppointmentID Gender          ScheduledDay  \\\n",
              "0  2.987250e+13        5642903      F  2016-04-29T18:38:08Z   \n",
              "1  5.589978e+14        5642503      M  2016-04-29T16:08:27Z   \n",
              "2  4.262962e+12        5642549      F  2016-04-29T16:19:04Z   \n",
              "3  8.679512e+11        5642828      F  2016-04-29T17:29:31Z   \n",
              "4  8.841186e+12        5642494      F  2016-04-29T16:07:23Z   \n",
              "\n",
              "         AppointmentDay  Age      Neighbourhood  Scholarship  Hipertension  \\\n",
              "0  2016-04-29T00:00:00Z   62    JARDIM DA PENHA            0             1   \n",
              "1  2016-04-29T00:00:00Z   56    JARDIM DA PENHA            0             0   \n",
              "2  2016-04-29T00:00:00Z   62      MATA DA PRAIA            0             0   \n",
              "3  2016-04-29T00:00:00Z    8  PONTAL DE CAMBURI            0             0   \n",
              "4  2016-04-29T00:00:00Z   56    JARDIM DA PENHA            0             1   \n",
              "\n",
              "   Diabetes  Alcoholism  Handcap  SMS_received No-show  \n",
              "0         0           0        0             0      No  \n",
              "1         0           0        0             0      No  \n",
              "2         0           0        0             0      No  \n",
              "3         0           0        0             0      No  \n",
              "4         1           0        0             0      No  "
            ]
          },
          "execution_count": 2,
          "metadata": {},
          "output_type": "execute_result"
        }
      ],
      "source": [
        "# Load dataset and print out a few lines. \n",
        "df = pd.read_csv(\"noshowappointments-kagglev2-may-2016.csv\")\n",
        "df.head()"
      ]
    },
    {
      "cell_type": "code",
      "execution_count": null,
      "metadata": {
        "id": "-747ZctqvlC9",
        "outputId": "86a5387b-6aba-43a2-8995-1a47775cc74e"
      },
      "outputs": [
        {
          "data": {
            "text/plain": [
              "(110527, 14)"
            ]
          },
          "execution_count": 3,
          "metadata": {},
          "output_type": "execute_result"
        }
      ],
      "source": [
        "#number of rows and columns in dataset\n",
        "df.shape"
      ]
    },
    {
      "cell_type": "markdown",
      "metadata": {
        "id": "3eq_2gOCvlC-"
      },
      "source": [
        "We can see that the dataset is quite large with 110527 rows and 14 observations. Next, let's check the summary statistics and distritubtion of data to understand the data better."
      ]
    },
    {
      "cell_type": "code",
      "execution_count": null,
      "metadata": {
        "id": "g_5vaKlPvlC_",
        "outputId": "7db9baf6-4f2a-4104-ad45-8a254a94a2e6"
      },
      "outputs": [
        {
          "data": {
            "text/html": [
              "<div>\n",
              "<style scoped>\n",
              "    .dataframe tbody tr th:only-of-type {\n",
              "        vertical-align: middle;\n",
              "    }\n",
              "\n",
              "    .dataframe tbody tr th {\n",
              "        vertical-align: top;\n",
              "    }\n",
              "\n",
              "    .dataframe thead th {\n",
              "        text-align: right;\n",
              "    }\n",
              "</style>\n",
              "<table border=\"1\" class=\"dataframe\">\n",
              "  <thead>\n",
              "    <tr style=\"text-align: right;\">\n",
              "      <th></th>\n",
              "      <th>PatientId</th>\n",
              "      <th>AppointmentID</th>\n",
              "      <th>Age</th>\n",
              "      <th>Scholarship</th>\n",
              "      <th>Hipertension</th>\n",
              "      <th>Diabetes</th>\n",
              "      <th>Alcoholism</th>\n",
              "      <th>Handcap</th>\n",
              "      <th>SMS_received</th>\n",
              "    </tr>\n",
              "  </thead>\n",
              "  <tbody>\n",
              "    <tr>\n",
              "      <th>count</th>\n",
              "      <td>1.105270e+05</td>\n",
              "      <td>1.105270e+05</td>\n",
              "      <td>110527.000000</td>\n",
              "      <td>110527.000000</td>\n",
              "      <td>110527.000000</td>\n",
              "      <td>110527.000000</td>\n",
              "      <td>110527.000000</td>\n",
              "      <td>110527.000000</td>\n",
              "      <td>110527.000000</td>\n",
              "    </tr>\n",
              "    <tr>\n",
              "      <th>mean</th>\n",
              "      <td>1.474963e+14</td>\n",
              "      <td>5.675305e+06</td>\n",
              "      <td>37.088874</td>\n",
              "      <td>0.098266</td>\n",
              "      <td>0.197246</td>\n",
              "      <td>0.071865</td>\n",
              "      <td>0.030400</td>\n",
              "      <td>0.022248</td>\n",
              "      <td>0.321026</td>\n",
              "    </tr>\n",
              "    <tr>\n",
              "      <th>std</th>\n",
              "      <td>2.560949e+14</td>\n",
              "      <td>7.129575e+04</td>\n",
              "      <td>23.110205</td>\n",
              "      <td>0.297675</td>\n",
              "      <td>0.397921</td>\n",
              "      <td>0.258265</td>\n",
              "      <td>0.171686</td>\n",
              "      <td>0.161543</td>\n",
              "      <td>0.466873</td>\n",
              "    </tr>\n",
              "    <tr>\n",
              "      <th>min</th>\n",
              "      <td>3.921784e+04</td>\n",
              "      <td>5.030230e+06</td>\n",
              "      <td>-1.000000</td>\n",
              "      <td>0.000000</td>\n",
              "      <td>0.000000</td>\n",
              "      <td>0.000000</td>\n",
              "      <td>0.000000</td>\n",
              "      <td>0.000000</td>\n",
              "      <td>0.000000</td>\n",
              "    </tr>\n",
              "    <tr>\n",
              "      <th>25%</th>\n",
              "      <td>4.172614e+12</td>\n",
              "      <td>5.640286e+06</td>\n",
              "      <td>18.000000</td>\n",
              "      <td>0.000000</td>\n",
              "      <td>0.000000</td>\n",
              "      <td>0.000000</td>\n",
              "      <td>0.000000</td>\n",
              "      <td>0.000000</td>\n",
              "      <td>0.000000</td>\n",
              "    </tr>\n",
              "    <tr>\n",
              "      <th>50%</th>\n",
              "      <td>3.173184e+13</td>\n",
              "      <td>5.680573e+06</td>\n",
              "      <td>37.000000</td>\n",
              "      <td>0.000000</td>\n",
              "      <td>0.000000</td>\n",
              "      <td>0.000000</td>\n",
              "      <td>0.000000</td>\n",
              "      <td>0.000000</td>\n",
              "      <td>0.000000</td>\n",
              "    </tr>\n",
              "    <tr>\n",
              "      <th>75%</th>\n",
              "      <td>9.439172e+13</td>\n",
              "      <td>5.725524e+06</td>\n",
              "      <td>55.000000</td>\n",
              "      <td>0.000000</td>\n",
              "      <td>0.000000</td>\n",
              "      <td>0.000000</td>\n",
              "      <td>0.000000</td>\n",
              "      <td>0.000000</td>\n",
              "      <td>1.000000</td>\n",
              "    </tr>\n",
              "    <tr>\n",
              "      <th>max</th>\n",
              "      <td>9.999816e+14</td>\n",
              "      <td>5.790484e+06</td>\n",
              "      <td>115.000000</td>\n",
              "      <td>1.000000</td>\n",
              "      <td>1.000000</td>\n",
              "      <td>1.000000</td>\n",
              "      <td>1.000000</td>\n",
              "      <td>4.000000</td>\n",
              "      <td>1.000000</td>\n",
              "    </tr>\n",
              "  </tbody>\n",
              "</table>\n",
              "</div>"
            ],
            "text/plain": [
              "          PatientId  AppointmentID            Age    Scholarship  \\\n",
              "count  1.105270e+05   1.105270e+05  110527.000000  110527.000000   \n",
              "mean   1.474963e+14   5.675305e+06      37.088874       0.098266   \n",
              "std    2.560949e+14   7.129575e+04      23.110205       0.297675   \n",
              "min    3.921784e+04   5.030230e+06      -1.000000       0.000000   \n",
              "25%    4.172614e+12   5.640286e+06      18.000000       0.000000   \n",
              "50%    3.173184e+13   5.680573e+06      37.000000       0.000000   \n",
              "75%    9.439172e+13   5.725524e+06      55.000000       0.000000   \n",
              "max    9.999816e+14   5.790484e+06     115.000000       1.000000   \n",
              "\n",
              "        Hipertension       Diabetes     Alcoholism        Handcap  \\\n",
              "count  110527.000000  110527.000000  110527.000000  110527.000000   \n",
              "mean        0.197246       0.071865       0.030400       0.022248   \n",
              "std         0.397921       0.258265       0.171686       0.161543   \n",
              "min         0.000000       0.000000       0.000000       0.000000   \n",
              "25%         0.000000       0.000000       0.000000       0.000000   \n",
              "50%         0.000000       0.000000       0.000000       0.000000   \n",
              "75%         0.000000       0.000000       0.000000       0.000000   \n",
              "max         1.000000       1.000000       1.000000       4.000000   \n",
              "\n",
              "        SMS_received  \n",
              "count  110527.000000  \n",
              "mean        0.321026  \n",
              "std         0.466873  \n",
              "min         0.000000  \n",
              "25%         0.000000  \n",
              "50%         0.000000  \n",
              "75%         1.000000  \n",
              "max         1.000000  "
            ]
          },
          "execution_count": 4,
          "metadata": {},
          "output_type": "execute_result"
        }
      ],
      "source": [
        "#summary statistics\n",
        "df.describe()"
      ]
    },
    {
      "cell_type": "markdown",
      "metadata": {
        "id": "4CP_xcnavlC_"
      },
      "source": [
        "The PatientId and AppointmentID summary statistics look wierd, don't they? That's because they shouldn't be in this summary at all. This means that they don't have the right datatypes.\n",
        "\n",
        "There seems to be no missing data since all columns have 110527 rows.\n",
        "\n",
        "From the age column, we can see that the average age in this dataset is 37. However, a minimum age of -1 is quite unrealistic as we can't have negative ages. Also data from patients above 100 may not be accurate and reliable.\n",
        "\n",
        "The handicap column has a maximum of 4 which isn't consistent with the rule given for the column which says that only two values (0 and 1) is expected.\n",
        "\n",
        "Next, let's look at the distribution."
      ]
    },
    {
      "cell_type": "code",
      "execution_count": null,
      "metadata": {
        "id": "6shf_PtyvlDA",
        "outputId": "217ca80d-1b2f-4240-a336-c8fc02808b4a"
      },
      "outputs": [
        {
          "data": {
            "image/png": "[encoded data removed]",
            "text/plain": [
              "<Figure size 1440x576 with 9 Axes>"
            ]
          },
          "metadata": {
            "needs_background": "light"
          },
          "output_type": "display_data"
        }
      ],
      "source": [
        "#plot a histogram for entire data\n",
        "df.hist(figsize=(20,8));"
      ]
    },
    {
      "cell_type": "markdown",
      "metadata": {
        "id": "rdHaMuPJvlDB"
      },
      "source": [
        "The plot above shows that majority of the patients are below 70 and very few above 90.\n",
        "\n",
        "Most of the patients are not suffering from Diabetes, Alcoholism, Hypertension or handicapped.\n",
        "\n",
        "Also, majority of them are not enrolled in Brasilian welfare program Bolsa Família."
      ]
    },
    {
      "cell_type": "markdown",
      "metadata": {
        "id": "8cbn7kaUvlDB"
      },
      "source": [
        "Now that we understand the data better, let's highlight a few problems that were observed.\n",
        "\n",
        "### Problems\n",
        "\n",
        "1. The datatypes of all columns should be inspected and changed, where necessary.\n",
        "2. The Age rows with negative and unreliable values should be inspected and removed.\n",
        "3. The handicap column should be inspected and inconsistent rows removed.\n",
        "4. The No-show column should be renamed to No_show to avoid errors that could occur as a result of the hyphen.\n"
      ]
    },
    {
      "cell_type": "markdown",
      "metadata": {
        "id": "zhOkC058vlDC"
      },
      "source": [
        "Now that we've highlighted the problems in this dataset, let's begin the cleaning operations!\n",
        "\n",
        "## Data Cleaning\n",
        "\n",
        "### Inspecting Datatype"
      ]
    },
    {
      "cell_type": "code",
      "execution_count": null,
      "metadata": {
        "id": "wciFeWRIvlDC",
        "outputId": "e57fb557-b75a-4b54-9c83-5109233194a2"
      },
      "outputs": [
        {
          "name": "stdout",
          "output_type": "stream",
          "text": [
            "<class 'pandas.core.frame.DataFrame'>\n",
            "RangeIndex: 110527 entries, 0 to 110526\n",
            "Data columns (total 14 columns):\n",
            "PatientId         110527 non-null float64\n",
            "AppointmentID     110527 non-null int64\n",
            "Gender            110527 non-null object\n",
            "ScheduledDay      110527 non-null object\n",
            "AppointmentDay    110527 non-null object\n",
            "Age               110527 non-null int64\n",
            "Neighbourhood     110527 non-null object\n",
            "Scholarship       110527 non-null int64\n",
            "Hipertension      110527 non-null int64\n",
            "Diabetes          110527 non-null int64\n",
            "Alcoholism        110527 non-null int64\n",
            "Handcap           110527 non-null int64\n",
            "SMS_received      110527 non-null int64\n",
            "No-show           110527 non-null object\n",
            "dtypes: float64(1), int64(8), object(5)\n",
            "memory usage: 9.7+ MB\n"
          ]
        }
      ],
      "source": [
        "#get information on every column\n",
        "df.info()"
      ]
    },
    {
      "cell_type": "markdown",
      "metadata": {
        "id": "jB7NhS2uvlDD"
      },
      "source": [
        "From the information above, the <b>PatientId and AppointmentID</b> do not have the right datatype. They should be strings since they are unique values for identification and should not be affected by statistical operations. \n",
        "\n",
        "However, these columns are not relevant to our analysis and so will be removed. \n",
        "The <b>AppointmentDay and ScheduledDay</b> column is also not relevant to the analysis and will be removed."
      ]
    },
    {
      "cell_type": "code",
      "execution_count": null,
      "metadata": {
        "id": "EK7zu7vLvlDD"
      },
      "outputs": [],
      "source": [
        "#remove irrelevant columns\n",
        "df.drop([\"PatientId\", \"AppointmentID\", \"ScheduledDay\", \"AppointmentDay\"], axis= 1, inplace= True)\n"
      ]
    },
    {
      "cell_type": "code",
      "execution_count": null,
      "metadata": {
        "id": "XS2qK0w-vlDE",
        "outputId": "280fbaf0-716a-4f89-9897-e993787589db"
      },
      "outputs": [
        {
          "data": {
            "text/html": [
              "<div>\n",
              "<style scoped>\n",
              "    .dataframe tbody tr th:only-of-type {\n",
              "        vertical-align: middle;\n",
              "    }\n",
              "\n",
              "    .dataframe tbody tr th {\n",
              "        vertical-align: top;\n",
              "    }\n",
              "\n",
              "    .dataframe thead th {\n",
              "        text-align: right;\n",
              "    }\n",
              "</style>\n",
              "<table border=\"1\" class=\"dataframe\">\n",
              "  <thead>\n",
              "    <tr style=\"text-align: right;\">\n",
              "      <th></th>\n",
              "      <th>Gender</th>\n",
              "      <th>Age</th>\n",
              "      <th>Neighbourhood</th>\n",
              "      <th>Scholarship</th>\n",
              "      <th>Hipertension</th>\n",
              "      <th>Diabetes</th>\n",
              "      <th>Alcoholism</th>\n",
              "      <th>Handcap</th>\n",
              "      <th>SMS_received</th>\n",
              "      <th>No-show</th>\n",
              "    </tr>\n",
              "  </thead>\n",
              "  <tbody>\n",
              "    <tr>\n",
              "      <th>0</th>\n",
              "      <td>F</td>\n",
              "      <td>62</td>\n",
              "      <td>JARDIM DA PENHA</td>\n",
              "      <td>0</td>\n",
              "      <td>1</td>\n",
              "      <td>0</td>\n",
              "      <td>0</td>\n",
              "      <td>0</td>\n",
              "      <td>0</td>\n",
              "      <td>No</td>\n",
              "    </tr>\n",
              "    <tr>\n",
              "      <th>1</th>\n",
              "      <td>M</td>\n",
              "      <td>56</td>\n",
              "      <td>JARDIM DA PENHA</td>\n",
              "      <td>0</td>\n",
              "      <td>0</td>\n",
              "      <td>0</td>\n",
              "      <td>0</td>\n",
              "      <td>0</td>\n",
              "      <td>0</td>\n",
              "      <td>No</td>\n",
              "    </tr>\n",
              "    <tr>\n",
              "      <th>2</th>\n",
              "      <td>F</td>\n",
              "      <td>62</td>\n",
              "      <td>MATA DA PRAIA</td>\n",
              "      <td>0</td>\n",
              "      <td>0</td>\n",
              "      <td>0</td>\n",
              "      <td>0</td>\n",
              "      <td>0</td>\n",
              "      <td>0</td>\n",
              "      <td>No</td>\n",
              "    </tr>\n",
              "    <tr>\n",
              "      <th>3</th>\n",
              "      <td>F</td>\n",
              "      <td>8</td>\n",
              "      <td>PONTAL DE CAMBURI</td>\n",
              "      <td>0</td>\n",
              "      <td>0</td>\n",
              "      <td>0</td>\n",
              "      <td>0</td>\n",
              "      <td>0</td>\n",
              "      <td>0</td>\n",
              "      <td>No</td>\n",
              "    </tr>\n",
              "    <tr>\n",
              "      <th>4</th>\n",
              "      <td>F</td>\n",
              "      <td>56</td>\n",
              "      <td>JARDIM DA PENHA</td>\n",
              "      <td>0</td>\n",
              "      <td>1</td>\n",
              "      <td>1</td>\n",
              "      <td>0</td>\n",
              "      <td>0</td>\n",
              "      <td>0</td>\n",
              "      <td>No</td>\n",
              "    </tr>\n",
              "  </tbody>\n",
              "</table>\n",
              "</div>"
            ],
            "text/plain": [
              "  Gender  Age      Neighbourhood  Scholarship  Hipertension  Diabetes  \\\n",
              "0      F   62    JARDIM DA PENHA            0             1         0   \n",
              "1      M   56    JARDIM DA PENHA            0             0         0   \n",
              "2      F   62      MATA DA PRAIA            0             0         0   \n",
              "3      F    8  PONTAL DE CAMBURI            0             0         0   \n",
              "4      F   56    JARDIM DA PENHA            0             1         1   \n",
              "\n",
              "   Alcoholism  Handcap  SMS_received No-show  \n",
              "0           0        0             0      No  \n",
              "1           0        0             0      No  \n",
              "2           0        0             0      No  \n",
              "3           0        0             0      No  \n",
              "4           0        0             0      No  "
            ]
          },
          "execution_count": 8,
          "metadata": {},
          "output_type": "execute_result"
        }
      ],
      "source": [
        "#show data to verify that the columns were indeed dropped\n",
        "df.head()"
      ]
    },
    {
      "cell_type": "markdown",
      "metadata": {
        "id": "628Ke1crvlDE"
      },
      "source": [
        "### Inspecting Age Column\n",
        "**To remove age rows with negative values**"
      ]
    },
    {
      "cell_type": "code",
      "execution_count": null,
      "metadata": {
        "id": "9QFzSJZavlDF",
        "outputId": "bc521f45-8e14-40ed-9087-f62191bcba65"
      },
      "outputs": [
        {
          "data": {
            "text/plain": [
              "0"
            ]
          },
          "execution_count": 9,
          "metadata": {},
          "output_type": "execute_result"
        }
      ],
      "source": [
        "# get rows in Age column with negative values\n",
        "invalid = df[df.Age<0].index\n",
        "\n",
        "#delete these rows\n",
        "df.drop(invalid, inplace=True)\n",
        "\n",
        "#show minimum age\n",
        "df.Age.min()"
      ]
    },
    {
      "cell_type": "markdown",
      "metadata": {
        "id": "BzBkIZUZvlDF"
      },
      "source": [
        "The rows with negative Age values have been removed and the minimum age is now 0 which is more realistic. \n",
        "\n",
        "**To remove ages above 100**"
      ]
    },
    {
      "cell_type": "code",
      "execution_count": null,
      "metadata": {
        "id": "Eb9-AO5cvlDG"
      },
      "outputs": [],
      "source": [
        "# get rows in Age column that are above 100\n",
        "unreliable = df[df.Age>100].index\n",
        "\n",
        "#delete these rows\n",
        "df.drop(unreliable, inplace=True)\n"
      ]
    },
    {
      "cell_type": "markdown",
      "metadata": {
        "id": "DxVEqrJZvlDG"
      },
      "source": [
        "Ages above 100 which may contain unreliable information have been successfully removed."
      ]
    },
    {
      "cell_type": "markdown",
      "metadata": {
        "id": "6hx1nZyVvlDH"
      },
      "source": [
        "### Inspecting Handicap Column\n",
        "\n",
        "It was observed that the Handicap column contains some rows with values greater than 1. Let's get these columns."
      ]
    },
    {
      "cell_type": "code",
      "execution_count": null,
      "metadata": {
        "id": "My_QoVzkvlDH",
        "outputId": "cc34503a-23d1-4f6d-d5b2-8505a9e9706d"
      },
      "outputs": [
        {
          "data": {
            "text/plain": [
              "199"
            ]
          },
          "execution_count": 11,
          "metadata": {},
          "output_type": "execute_result"
        }
      ],
      "source": [
        "# count number of rows with Handicap values greater than 1\n",
        "df[df.Handcap>1].count()[\"Handcap\"]"
      ]
    },
    {
      "cell_type": "markdown",
      "metadata": {
        "id": "xLd45xm5vlDH"
      },
      "source": [
        "There are 199 rows with Handicap values greater than 1. Considering the large dataset(110527 rows), these 199 rows which showed inconsistencies can be removed."
      ]
    },
    {
      "cell_type": "code",
      "execution_count": null,
      "metadata": {
        "id": "qmFqnmGPvlDH",
        "outputId": "59d45582-332c-4469-e69e-d9d13c688d59"
      },
      "outputs": [
        {
          "data": {
            "text/plain": [
              "1"
            ]
          },
          "execution_count": 12,
          "metadata": {},
          "output_type": "execute_result"
        }
      ],
      "source": [
        "# get rows with Handicap value greater than 1\n",
        "incons = df[df.Handcap>1].index\n",
        "\n",
        "# delete these rows\n",
        "df.drop(incons, inplace = True)\n",
        "\n",
        "# show maximum handicap value\n",
        "\n",
        "df.Handcap.max()"
      ]
    },
    {
      "cell_type": "markdown",
      "metadata": {
        "id": "0HaXd3YtvlDI"
      },
      "source": [
        "The inconsistent rows have been successfully removed and the maximum value is now 1 as it should be."
      ]
    },
    {
      "cell_type": "markdown",
      "metadata": {
        "id": "4YIchhVGvlDJ"
      },
      "source": [
        "There's no need checking for duplicate values as some patients might have had appointments on several days.\n"
      ]
    },
    {
      "cell_type": "markdown",
      "metadata": {
        "id": "QJfbAH5hvlDJ"
      },
      "source": [
        "### Rename No-show Column"
      ]
    },
    {
      "cell_type": "code",
      "execution_count": null,
      "metadata": {
        "id": "Wz343erFvlDJ"
      },
      "outputs": [],
      "source": [
        "df.rename(columns={\"No-show\":\"No_show\"}, inplace=True)\n"
      ]
    },
    {
      "cell_type": "markdown",
      "metadata": {
        "id": "dO91iSW_vlDJ"
      },
      "source": [
        "Hooray! The data is clean to be used.\n",
        "\n",
        "Let's move on to analysing the data based on questions posed."
      ]
    },
    {
      "cell_type": "markdown",
      "metadata": {
        "id": "-EZ2dpaDvlDJ"
      },
      "source": [
        "<a id='eda'></a>\n",
        "## Exploratory Data Analysis\n",
        "\n",
        "\n",
        "## 1. Which gender is more likely to show up for appointments?\n",
        "To answer this question, we must first check the distribution of the gender in the dataset. "
      ]
    },
    {
      "cell_type": "code",
      "execution_count": null,
      "metadata": {
        "id": "HjSP2UDgvlDK",
        "outputId": "3989ca47-58e9-46e9-bf47-3c9a882c4bbb"
      },
      "outputs": [
        {
          "data": {
            "image/png": "[encoded data removed]",
            "text/plain": [
              "<Figure size 432x432 with 1 Axes>"
            ]
          },
          "metadata": {},
          "output_type": "display_data"
        }
      ],
      "source": [
        "#plot a pie chart showing distribution of gender\n",
        "df[\"Gender\"].value_counts().plot(kind = \"pie\", figsize = (6,6), colors =[\"blue\",\"orange\"], autopct = \"%1.0f%%\");\n",
        "plt.title(\"Distribution of Gender in Dataset\");"
      ]
    },
    {
      "cell_type": "markdown",
      "metadata": {
        "id": "0TDwxAaQvlDK"
      },
      "source": [
        "The pie chart shows that a greater percentage of the patients in the dataset are females.\n",
        "\n",
        "To prevent bias that could occur in answering this question as a result of this huge difference, a grouped bar plot would used to compare the ratios of no-show to show for each gender."
      ]
    },
    {
      "cell_type": "code",
      "execution_count": null,
      "metadata": {
        "id": "nKtaPKf-vlDK",
        "outputId": "40131508-6bdf-4eb0-aaad-0b863e10b517"
      },
      "outputs": [
        {
          "data": {
            "image/png": "[encoded data removed]",
            "text/plain": [
              "<Figure size 432x288 with 1 Axes>"
            ]
          },
          "metadata": {
            "needs_background": "light"
          },
          "output_type": "display_data"
        }
      ],
      "source": [
        "# plot a grouped bar chart for gender based on no-show\n",
        "#df.groupby([\"No-show\",\"Gender\"])[\"Gender\"].hist()\n",
        "sns.countplot(x = \"Gender\", hue =\"No_show\", color = \"blue\", data = df);"
      ]
    },
    {
      "cell_type": "markdown",
      "metadata": {
        "id": "_Ac-wcx6vlDL"
      },
      "source": [
        ">Recall that \"No\" means that the patieent showed up and \"Yes\" means that they didnt.\n",
        "\n",
        "The bar plot shows that the ratio of females that showed up to those that didn't is higher than the ratio of males that showed up to those that didin't. \n",
        "\n",
        "Hence, it is safe to say that the female gender is more likely to show up for their appointment."
      ]
    },
    {
      "cell_type": "markdown",
      "metadata": {
        "id": "jqcVeh5zvlDL"
      },
      "source": [
        "## 2. What are the top five locations where patients are more likely to show up for their appointments?"
      ]
    },
    {
      "cell_type": "code",
      "execution_count": null,
      "metadata": {
        "id": "kOt-qysovlDL",
        "outputId": "b07d9bbc-2f22-4496-9aeb-9a60730f3cc6"
      },
      "outputs": [
        {
          "data": {
            "image/png": "[encoded data removed]",
            "text/plain": [
              "<Figure size 1440x432 with 1 Axes>"
            ]
          },
          "metadata": {
            "needs_background": "light"
          },
          "output_type": "display_data"
        }
      ],
      "source": [
        "df.groupby(\"No_show\")[\"Neighbourhood\"].value_counts().head(5).plot(kind=\"bar\", color = \"blue\", figsize=(20,6));"
      ]
    },
    {
      "cell_type": "markdown",
      "metadata": {
        "id": "1UMKF3YyvlDL"
      },
      "source": [
        "The top five locations where patients are most likely to show up for their appountments include:\n",
        "<li> Jardim Camburi </li>\n",
        "<li> Maria Oritz </li>\n",
        "<li> Resistencia </li>\n",
        "<li> Jardim Da Penha </li>\n",
        "<li> Centro </li>"
      ]
    },
    {
      "cell_type": "markdown",
      "metadata": {
        "id": "lX-4cnwOvlDM"
      },
      "source": [
        "## 3. Is sending messages likely to determine if a patient shows up or not?"
      ]
    },
    {
      "cell_type": "code",
      "execution_count": null,
      "metadata": {
        "id": "_xkQqj1DvlDM",
        "outputId": "5937d556-a595-47dc-ff44-7f91bbbe1d43"
      },
      "outputs": [
        {
          "data": {
            "image/png": "[encoded data removed]",
            "text/plain": [
              "<Figure size 432x288 with 1 Axes>"
            ]
          },
          "metadata": {
            "needs_background": "light"
          },
          "output_type": "display_data"
        }
      ],
      "source": [
        "# plot a grouped bar chart for SMS_received based on no-show\n",
        "sns.countplot(x = \"SMS_received\", hue =\"No_show\", color = \"blue\", data = df);"
      ]
    },
    {
      "cell_type": "markdown",
      "metadata": {
        "id": "C-hDtKKJvlDM"
      },
      "source": [
        "The chart above shows that the ratio of those that showed up to those that didn't is higher when SMS wasn't sent than when an SMS was sent. This shows that sending SMS may not determine if a patient will show up or not. "
      ]
    },
    {
      "cell_type": "markdown",
      "metadata": {
        "id": "I4qrbKBMvlDM"
      },
      "source": [
        "## 3. Which category of patients on scholarship are more likely to miss their appointments?\n",
        "To answer this question, i'll define what  i mean by categories.\n",
        "\n",
        "Categories of patients include those that:\n",
        "- that have Hipertension,\n",
        "- that have Diabetes,\n",
        "- that have Alcoholism,\n",
        "- that are Handcapped\n",
        "  \n",
        "First, we must make sure there aren't any other factors that may affect our results. Let's see the distribution of these factors..."
      ]
    },
    {
      "cell_type": "code",
      "execution_count": null,
      "metadata": {
        "id": "7RKyexirvlDM",
        "outputId": "63320df5-07ef-4e76-e648-2978a3a3b515"
      },
      "outputs": [
        {
          "data": {
            "image/png": "[encoded data removed]",
            "text/plain": [
              "<Figure size 720x720 with 4 Axes>"
            ]
          },
          "metadata": {},
          "output_type": "display_data"
        }
      ],
      "source": [
        "# count the number of patients that have each illness\n",
        "\n",
        "fig, axs = plt.subplots(2,2, figsize = (10,8))\n",
        "df[\"Hipertension\"].value_counts().plot(kind = \"pie\", figsize = (10,10), autopct = \"%1.0f%%\", colors =[\"blue\",\"orange\"], ax=axs[0,0]);\n",
        "df[\"Diabetes\"].value_counts().plot(kind = \"pie\", figsize = (10,10), autopct = \"%1.0f%%\", colors =[\"blue\",\"orange\"], ax=axs[0,1]);\n",
        "df[\"Alcoholism\"].value_counts().plot(kind = \"pie\", figsize = (10,10), autopct = \"%1.0f%%\", colors =[\"blue\",\"orange\"], ax=axs[1,0]);\n",
        "df[\"Handcap\"].value_counts().plot(kind = \"pie\", figsize = (10,10), autopct = \"%1.0f%%\", colors =[\"blue\",\"orange\"], ax=axs[1,1]);"
      ]
    },
    {
      "cell_type": "markdown",
      "metadata": {
        "id": "sYa4kl9lvlDN"
      },
      "source": [
        "From the visualisatons above, it can be seen that a small quantity of patients are suffering from an illness. To answer our question, we'll only consider this minority."
      ]
    },
    {
      "cell_type": "code",
      "execution_count": null,
      "metadata": {
        "id": "2VORLZCLvlDN",
        "outputId": "3595fdb6-d976-4b8e-f3de-9922c9b04ade"
      },
      "outputs": [
        {
          "data": {
            "image/png": "[encoded data removed]",
            "text/plain": [
              "<Figure size 720x720 with 4 Axes>"
            ]
          },
          "metadata": {
            "needs_background": "light"
          },
          "output_type": "display_data"
        }
      ],
      "source": [
        "fig, axs = plt.subplots(2,2, sharey = True, figsize = (10,10))\n",
        "\n",
        "# Filter data by Scholarship to get those that are enrolled in the welfare scholarship program\n",
        "filtered = df.query(\"Scholarship==1\", inplace=True)\n",
        "\n",
        "# then count the number of paients in each category and plot\n",
        "sns.countplot(x =\"Hipertension\", hue = \"No_show\", color = \"blue\", data = df, ax = axs[0,0]);\n",
        "sns.countplot(x = \"Diabetes\", hue = \"No_show\", color = \"blue\", data = df, ax = axs[0,1]);\n",
        "sns.countplot(x = \"Alcoholism\", hue = \"No_show\", color = \"blue\", data = df, ax = axs[1,0]);\n",
        "sns.countplot(x = \"Handcap\", hue = \"No_show\", color = \"blue\", data = df, ax = axs[1,1]);"
      ]
    },
    {
      "cell_type": "markdown",
      "metadata": {
        "id": "seyezWW6vlDN"
      },
      "source": [
        "> Recall that majority of the patients in this dataset do not suffer from any of the diseases and those that missed their appointment is represented by 1\n"
      ]
    },
    {
      "cell_type": "markdown",
      "metadata": {
        "id": "M6B__YN9vlDN"
      },
      "source": [
        "From the visualisations above, it can be seen that among patients who have these diseases, a higher number of those that have hipertension was recorded to miss for their appointments than other diseases. \n",
        "\n",
        "Therefore, we can say that those hat have hipertension are more likely to show up for their appointment."
      ]
    },
    {
      "cell_type": "markdown",
      "metadata": {
        "id": "b3UzhwRkvlDO"
      },
      "source": [
        "<a id='conclusions'></a>\n",
        "## Conclusions\n",
        "\n",
        "The report shows that the following patients are more likely to show up for their appointment:\n",
        "- females\n",
        "- those that live in those that live in Jardim Camburi, Maria Oritz, Resistencia, Jardim Da Penha, Centro\n",
        "\n",
        "Those that suffer from Hipertension are also more likely to miss their appointment than others.\n",
        "\n",
        "However, considering the fact that the dataset contained more of patients who showed up for their appointment, it would have been clearer to analyse factors that could contribute to a patient missing his appointment if the dataset contained only those missed their appointment.\n",
        "\n"
      ]
    }
  ],
  "metadata": {
    "kernelspec": {
      "display_name": "Python 3",
      "language": "python",
      "name": "python3"
    },
    "language_info": {
      "codemirror_mode": {
        "name": "ipython",
        "version": 3
      },
      "file_extension": ".py",
      "mimetype": "text/x-python",
      "name": "python",
      "nbconvert_exporter": "python",
      "pygments_lexer": "ipython3",
      "version": "3.7.0"
    },
    "vscode": {
      "interpreter": {
        "hash": "2c875ad0bc18c2617df82a1031d61ad436905a91e49b74e345884621b3a9cb5a"
      }
    },
    "colab": {
      "name": "Investigate_a_Dataset.ipynb",
      "provenance": [],
      "include_colab_link": true
    }
  },
  "nbformat": 4,
  "nbformat_minor": 0
}